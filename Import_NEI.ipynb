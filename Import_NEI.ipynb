{
 "cells": [
  {
   "cell_type": "code",
   "execution_count": 37,
   "metadata": {},
   "outputs": [
    {
     "name": "stderr",
     "output_type": "stream",
     "text": [
      "C:\\Users\\steven\\Anaconda3\\lib\\site-packages\\IPython\\core\\interactiveshell.py:3146: DtypeWarning: Columns (3,8,9,10,19,22,26,28,30,31,32,36,37,38,39,47,48,49) have mixed types.Specify dtype option on import or set low_memory=False.\n",
      "  has_raised = await self.run_ast_nodes(code_ast.body, cell_name,\n"
     ]
    }
   ],
   "source": [
    "'''\n",
    "2017 National Emissions Inventory - Point Sources\n",
    "Data Downloaded at https://www.epa.gov/air-emissions-inventories/2017-national-emissions-inventory-nei-data#datas\n",
    "\n",
    "The purpose of this notebook is to calculate the total emissions within a select radius of a monitor and an industrial facility\n",
    "This type of analysis is required to demonstrate the a given monitor is conservative/representative of the air surrounding the industrial facility\n",
    "\n",
    "Required Inputs within the notebook include:\n",
    "- User Specified Radius (km)\n",
    "- Lat/Long location of ambient air monitor\n",
    "- Lat/Long location of industrial facility\n",
    "'''\n",
    "import numpy as np\n",
    "import pandas as pd\n",
    "#input_file = \"../2017neiJan_facility_process_byregions/point_12345.csv\" #Use this for locations within EPA Regions 1, 2, 3, 4, 5\n",
    "input_file = \"../2017neiJan_facility_process_byregions/point_678910.csv\" #Use this for locations within EPA Regions 6, 7, 8, 9, 10\n",
    "\n",
    "df = pd.read_csv(input_file)"
   ]
  },
  {
   "cell_type": "code",
   "execution_count": 38,
   "metadata": {},
   "outputs": [],
   "source": [
    "#Create your Filters\n",
    "state_filt = (df[\"state\"] == \"TX\") #Search within Texas, which is in Region 6\n",
    "poll_filt = (df[\"pollutant_code\"] == \"PM25-PRI\") #Search for Primary PM2.5 emissions\n",
    "sortby = state_filt & poll_filt"
   ]
  },
  {
   "cell_type": "code",
   "execution_count": 39,
   "metadata": {},
   "outputs": [],
   "source": [
    "# Want the Emissions Totals centered around a monitor and the industrial facility. Enter the locations in (Lat, Long) here as well as the search radius.\n",
    "search_radius = 15 #this is km\n",
    "Mon_Location = (29.515077, -98.620218)\n",
    "Site_Location = (29.000000, -98.000000)"
   ]
  },
  {
   "cell_type": "code",
   "execution_count": 40,
   "metadata": {},
   "outputs": [
    {
     "data": {
      "text/plain": [
       "Index(['region', 'state', 'stfips', 'tribal_name', 'fips', 'county',\n",
       "       'eis_facility_id', 'program_system_code', 'agency_facility_id',\n",
       "       'tri_facility_id', 'company_name', 'site_name', 'naics_code',\n",
       "       'naics_description', 'facility_source_type', 'site_latitude',\n",
       "       'site_longitude', 'address', 'city', 'zip_code', 'postal_abbreviation',\n",
       "       'eis_unit_id', 'agency_unit_id', 'unit_type', 'unit_description',\n",
       "       'design_capacity', 'design_capacity_uom', 'eis_process_id',\n",
       "       'agency_process_id', 'scc', 'reg_codes', 'reg_code_description',\n",
       "       'process_description', 'reporting_period', 'emissions_operating_type',\n",
       "       'calculation_parameter_value', 'calculation_parameter_uom',\n",
       "       'calculation_material', 'calculation_parameter_type',\n",
       "       'calc_data_source', 'calc_data_year', 'pollutant_code',\n",
       "       'pollutant_desc', 'pollutant_type', 'total_emissions', 'emissions_uom',\n",
       "       'emission_factor', 'ef_numerator_uom', 'ef_denominator_uom', 'ef_text',\n",
       "       'calc_method_code', 'calculation_method', 'emission_comment',\n",
       "       'source_data_set', 'data_tagged', 'data_set'],\n",
       "      dtype='object')"
      ]
     },
     "execution_count": 40,
     "metadata": {},
     "output_type": "execute_result"
    }
   ],
   "source": [
    "# These are the column headers, also identified in the provided PDF file\n",
    "df.columns"
   ]
  },
  {
   "cell_type": "code",
   "execution_count": 41,
   "metadata": {},
   "outputs": [
    {
     "data": {
      "text/plain": [
       "<bound method NDFrame.head of            county                              address          city  \\\n",
       "1621      Tarrant  IH 30 & OAKLAND BLVD; 2/3 MI ON OAK    FORT WORTH   \n",
       "1633      Tarrant  IH 30 & OAKLAND BLVD; 2/3 MI ON OAK    FORT WORTH   \n",
       "1657      Tarrant  FROM INTX OF HWY 121 & HADLEY EDERV   HALTOM CITY   \n",
       "1672      Tarrant  FROM INTX OF HWY 121 & HADLEY EDERV   HALTOM CITY   \n",
       "1698      Tarrant  X OF I 820 & FM1220; GO N 13M ; TUR    FORT WORTH   \n",
       "...           ...                                  ...           ...   \n",
       "4186129     Bexar             6055 W GREEN MOUNTAIN RD   SAN ANTONIO   \n",
       "4186143    Harris                       2800 DECKER DR       BAYTOWN   \n",
       "4186195     Ellis      2.5 M W OF MIDLOTHIAN ON HWY 67    MIDLOTHIAN   \n",
       "4186205  Chambers                13330 HATCHERVILLE RD  MONT BELVIEU   \n",
       "4186216     Brown               US HWY 377 (BRADY HWY)     BROWNWOOD   \n",
       "\n",
       "         total_emissions  site_latitude  site_longitude  \n",
       "1621              0.0030      32.769694      -97.262508  \n",
       "1633              0.0700      32.769694      -97.262508  \n",
       "1657              0.4880      32.784903      -97.230444  \n",
       "1672              0.4881      32.784903      -97.230444  \n",
       "1698              0.0668      32.909239      -97.472506  \n",
       "...                  ...            ...             ...  \n",
       "4186129           0.6694      29.612140      -98.375075  \n",
       "4186143           1.0463      29.739444      -95.006944  \n",
       "4186195           0.1642      32.462679      -97.025572  \n",
       "4186205           0.0079      29.874200      -94.912200  \n",
       "4186216           0.0150      31.672356      -98.996953  \n",
       "\n",
       "[27805 rows x 6 columns]>"
      ]
     },
     "execution_count": 41,
     "metadata": {},
     "output_type": "execute_result"
    }
   ],
   "source": [
    "\n",
    "df_TX_PM25 = df[sortby][[\"county\",\"address\",\"city\",\"total_emissions\",\"site_latitude\",\"site_longitude\"]]\n",
    "df_TX_PM25.head"
   ]
  },
  {
   "cell_type": "code",
   "execution_count": 42,
   "metadata": {},
   "outputs": [],
   "source": [
    "# Distance Calculation in Excel\n",
    "# = ACOS(COS(RADIANS(90-X1)) *COS(RADIANS(90-X2)) +SIN(RADIANS(90-X1)) *SIN(RADIANS(90-X2)) *COS(RADIANS(Y1-Y2)))*6371\n",
    "# where: \n",
    "# X1 = Reference Latitude\n",
    "# X2 = Row Latitude\n",
    "# X1 = Reference Longitude\n",
    "# X1 = Row Longitude\n",
    "#\n",
    "####### Note - Trig functions are in radians, so use \"np.radians\" as written in the above MS Excel function to convert to degrees.\n",
    "\n",
    "def distance_lat_long(X1, X2, Y1, Y2):\n",
    "    return np.arccos(np.cos(np.radians(90-X1)) * \n",
    "                    np.cos(np.radians(90-X2)) + \n",
    "                    np.sin(np.radians(90-X1)) *\n",
    "                    np.sin(np.radians(90-X2)) *\n",
    "                    np.cos(np.radians(Y1-Y2)))*6371\n",
    "\n",
    "df_TX_PM25[\"Dist_Mon\"] = distance_lat_long(\n",
    "                Mon_Location[0],\n",
    "                df_TX_PM25[\"site_latitude\"],\n",
    "                Mon_Location[1],\n",
    "                df_TX_PM25[\"site_longitude\"])\n",
    "\n",
    "df_TX_PM25[\"Dist_Site\"] = distance_lat_long(\n",
    "                Site_Location[0],\n",
    "                df_TX_PM25[\"site_latitude\"],\n",
    "                Site_Location[1],\n",
    "                df_TX_PM25[\"site_longitude\"])\n"
   ]
  },
  {
   "cell_type": "code",
   "execution_count": 43,
   "metadata": {},
   "outputs": [
    {
     "name": "stdout",
     "output_type": "stream",
     "text": [
      "Total PM2.5 Emissions Surrounding Monitor:  34.238497943199995\n",
      "Total PM2.5 Emissions Surrounding Facility:  182.7575982183\n"
     ]
    }
   ],
   "source": [
    "# x = df_TX_PM25.groupby(\"total_emissions\")\n",
    "\n",
    "# df_final = df_TX_PM25[df_TX_PM25[\"Dist_Mon\"] <= search_radius]\n",
    "Mon_Total = df_TX_PM25[df_TX_PM25[\"Dist_Mon\"] <= search_radius][\"total_emissions\"].sum()\n",
    "\n",
    "Site_Total = df_TX_PM25[df_TX_PM25[\"Dist_Site\"] <= search_radius][\"total_emissions\"].sum()\n",
    "\n",
    "print(\"Total PM2.5 Emissions Surrounding Monitor: \",Mon_Total)\n",
    "print(\"Total PM2.5 Emissions Surrounding Facility: \",Site_Total)\n",
    "# .apply(lambda y: y[y[\"Dist_Mon\"] <= search_radius][\"total_emissions\"].sum())"
   ]
  }
 ],
 "metadata": {
  "interpreter": {
   "hash": "05afe37cf80baa6bd7a012133a488d4e6ff801e719c05085292ea8d35995f051"
  },
  "kernelspec": {
   "display_name": "Python 3.8.5 64-bit ('base': conda)",
   "language": "python",
   "name": "python3"
  },
  "language_info": {
   "codemirror_mode": {
    "name": "ipython",
    "version": 3
   },
   "file_extension": ".py",
   "mimetype": "text/x-python",
   "name": "python",
   "nbconvert_exporter": "python",
   "pygments_lexer": "ipython3",
   "version": "3.8.5"
  },
  "orig_nbformat": 4
 },
 "nbformat": 4,
 "nbformat_minor": 2
}
